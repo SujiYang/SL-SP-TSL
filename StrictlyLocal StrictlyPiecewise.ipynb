{
 "cells": [
  {
   "cell_type": "code",
   "execution_count": 32,
   "metadata": {
    "collapsed": true
   },
   "outputs": [],
   "source": [
    "def get_bigrams_str(s):\n",
    "    stack = []\n",
    "    for it in range(len(s)-1):\n",
    "        if s[it]+s[it+1] not in stack:\n",
    "            stack.append(s[it]+s[it+1])\n",
    "    return stack\n",
    "\n",
    "def get_trigrams_str(s):\n",
    "    stack = []\n",
    "    for it in range(len(s)-2):\n",
    "        if s[it:it+3] not in stack:\n",
    "            stack.append(s[it:it+3])\n",
    "    return stack\n",
    "\n",
    "def get_substr(s, n):\n",
    "    stack = []\n",
    "    for it in range(len(s)-(n-1)):\n",
    "        if s[it:it+n] not in stack:\n",
    "            stack.append(s[it:it+n])\n",
    "    return stack"
   ]
  },
  {
   "cell_type": "code",
   "execution_count": 8,
   "metadata": {},
   "outputs": [
    {
     "ename": "SyntaxError",
     "evalue": "invalid syntax (<ipython-input-8-01e96029f6da>, line 34)",
     "output_type": "error",
     "traceback": [
      "\u001b[0;36m  File \u001b[0;32m\"<ipython-input-8-01e96029f6da>\"\u001b[0;36m, line \u001b[0;32m34\u001b[0m\n\u001b[0;31m    VN = [\"an\", \"in\", \"on\", \"am\", \"im\", \"om\"]\u001b[0m\n\u001b[0m     ^\u001b[0m\n\u001b[0;31mSyntaxError\u001b[0m\u001b[0;31m:\u001b[0m invalid syntax\n"
     ]
    }
   ],
   "source": [
    "def augment_str(s, n):\n",
    "    return \"ㅓ\"*(n-1) + s + \"ㅏ\"*(n-1)\n",
    "\n",
    "def get_substr(s, n):\n",
    "    substrings = set(s[it:it+n] for it in range(len(s)-(n-1)))\n",
    "    return substrings                          \n",
    "\n",
    "def delete(string, tier):\n",
    "    return \"\".join([i for i in string if i in tier])\n",
    "delete(\"aabcd\", [\"a\", \"c\"])\n",
    "\n",
    "from itertools import*\n",
    "def get_subseq(s, n):\n",
    "    subseqs = set(''.join(c) for c in combinations(s, n))\n",
    "    return subseqs                    \n",
    "\n",
    "def ngr_gmr_compare(ngrams, grammar):\n",
    "    # intersection: ngrams 교집합 grammar (가 0일 경우: empty set(), True)\n",
    "    return ngrams.intersection(grammar) == set()\n",
    "\n",
    "def ngram_check(s, grammar, check = \"sl\", tier = none):\n",
    "    # compute length of n-grams\n",
    "    n = len(grammar[0])\n",
    "    # choose evaluation function\n",
    "    if check == \"tsl\" and tier:\n",
    "        s = delete(string, tier)\n",
    "    if check == \"sl\" or check == \"tsl\":\n",
    "        return ngr_gmr_compare(get_substr(augment_str(s, n), n), grammar) \n",
    "    return ngr_gmr_compare(get_subseq(augment_str(s, n), n), grammar)\n",
    "\n",
    "gr = [\"bbb\"]\n",
    "print(ngram_check(\"abbaaabab\", gr, check = 'tsl', tier = \"b\")\n",
    "      \n",
    "VN = [\"an\", \"in\", \"on\", \"am\", \"im\", \"om\"]\n",
    "print(ngram_check(\"banana\", VN))\n",
    "print(ngram_check(\"baunaunau\", VN))\n",
    "print(ngram_check(\"baunaunau\", VN, check=\"sp\"))\n",
    "\n",
    "NoFinalVOBS = [\"bㅏ\", \"dㅏ\", \"gㅏ\", \"zㅏ\", \"vㅏ\"]\n",
    "print(ngram_check(\"rip\", NoFinalVOBS))\n",
    "print(ngram_check(\"lib\", NoFinalVOBS))\n",
    "print(ngram_check(\"zig\", NoFinalVOBS))\n",
    "\n",
    "NoFinalVOBSㅡCONT = [\"bㅏ\", \"dㅏ\", \"gㅏ\"]\n",
    "print(ngram_check(\"rip\", NoFinalVOBSㅡCONT))\n",
    "print(ngram_check(\"rib\", NoFinalVOBSㅡCONT))\n",
    "print(ngram_check(\"lis\", NoFinalVOBSㅡCONT))\n",
    "print(ngram_check(\"liz\", NoFinalVOBSㅡCONT))\n",
    "print(ngram_check(\"zif\", NoFinalVOBSㅡCONT))\n",
    "print(ngram_check(\"ziv\", NoFinalVOBSㅡCONT))\n",
    "\n",
    "NoComplexOnset = [\"pl\",\"br\",\"gl\",\"al\",\"au\"]\n",
    "print(ngram_check(\"play\", NoComplexOnset))\n",
    "print(ngram_check(\"pele\", NoComplexOnset))\n",
    "print(ngram_check(\"broom\", NoComplexOnset))\n",
    "print(ngram_check(\"burum\", NoComplexOnset))\n",
    "print(ngram_check(\"glass\", NoComplexOnset))\n",
    "print(ngram_check(\"galas\", NoComplexOnset))"
   ]
  },
  {
   "cell_type": "code",
   "execution_count": 9,
   "metadata": {},
   "outputs": [
    {
     "ename": "TypeError",
     "evalue": "ngram_check() got an unexpected keyword argument 'tier'",
     "output_type": "error",
     "traceback": [
      "\u001b[0;31m---------------------------------------------------------------------------\u001b[0m",
      "\u001b[0;31mTypeError\u001b[0m                                 Traceback (most recent call last)",
      "\u001b[0;32m<ipython-input-9-40a222f74aea>\u001b[0m in \u001b[0;36m<module>\u001b[0;34m()\u001b[0m\n\u001b[1;32m      1\u001b[0m \u001b[0mgr\u001b[0m \u001b[0;34m=\u001b[0m \u001b[0;34m[\u001b[0m\u001b[0;34m\"bbb\"\u001b[0m\u001b[0;34m]\u001b[0m\u001b[0;34m\u001b[0m\u001b[0m\n\u001b[0;32m----> 2\u001b[0;31m \u001b[0mprint\u001b[0m\u001b[0;34m(\u001b[0m\u001b[0mngram_check\u001b[0m\u001b[0;34m(\u001b[0m\u001b[0;34m\"abbaaabab\"\u001b[0m\u001b[0;34m,\u001b[0m \u001b[0mgr\u001b[0m\u001b[0;34m,\u001b[0m \u001b[0mcheck\u001b[0m \u001b[0;34m=\u001b[0m \u001b[0;34m'tsl'\u001b[0m\u001b[0;34m,\u001b[0m \u001b[0mtier\u001b[0m \u001b[0;34m=\u001b[0m \u001b[0;34m\"b\"\u001b[0m\u001b[0;34m)\u001b[0m\u001b[0;34m)\u001b[0m\u001b[0;34m\u001b[0m\u001b[0m\n\u001b[0m",
      "\u001b[0;31mTypeError\u001b[0m: ngram_check() got an unexpected keyword argument 'tier'"
     ]
    }
   ],
   "source": [
    "gr = [\"bbb\"]\n",
    "print(ngram_check(\"abbaaabab\", gr, check = 'tsl', tier = \"b\"))"
   ]
  },
  {
   "cell_type": "code",
   "execution_count": null,
   "metadata": {
    "collapsed": true
   },
   "outputs": [],
   "source": []
  }
 ],
 "metadata": {
  "kernelspec": {
   "display_name": "Python 3",
   "language": "python",
   "name": "python3"
  },
  "language_info": {
   "codemirror_mode": {
    "name": "ipython",
    "version": 3
   },
   "file_extension": ".py",
   "mimetype": "text/x-python",
   "name": "python",
   "nbconvert_exporter": "python",
   "pygments_lexer": "ipython3",
   "version": "3.6.1"
  }
 },
 "nbformat": 4,
 "nbformat_minor": 2
}
